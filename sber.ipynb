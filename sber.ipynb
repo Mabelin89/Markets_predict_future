{
 "cells": [
  {
   "cell_type": "code",
   "execution_count": 8,
   "metadata": {
    "collapsed": true,
    "pycharm": {
     "name": "#%%\n"
    }
   },
   "outputs": [],
   "source": [
    "import pandas as pd\n",
    "\n",
    "# Загрузите CSV файл\n",
    "data = pd.read_csv('SBER1.csv')\n",
    "\n",
    "# Преобразуйте формат даты\n",
    "data['Дата'] = pd.to_datetime(data['Дата'], format='%d.%m.%Y')\n",
    "\n",
    "# Переименуйте столбцы\n",
    "data.rename(columns={\n",
    "    'Дата': '<DATE>',\n",
    "    'Откр.': '<OPEN>',\n",
    "    'Макс.': '<HIGH>',\n",
    "    'Мин.': '<LOW>',\n",
    "    'Цена': '<CLOSE>',\n",
    "    'Объём': '<VOL>'\n",
    "}, inplace=True)\n",
    "\n",
    "# Удалите лишние столбцы\n",
    "data.drop(['Изм. %'], axis=1, inplace=True)\n",
    "\n",
    "# Преобразуйте данные\n",
    "data['<DATE>'] = data['<DATE>'].dt.strftime('%Y%m%d')\n",
    "data['<TIME>'] = '000000'\n",
    "\n",
    "# Уберите запятые и преобразуйте столбцы <OPEN>, <HIGH>, <LOW> и <CLOSE> в числовой формат\n",
    "data['<OPEN>'] = data['<OPEN>'].str.replace(',', '.').astype(float)\n",
    "data['<HIGH>'] = data['<HIGH>'].str.replace(',', '.').astype(float)\n",
    "data['<LOW>'] = data['<LOW>'].str.replace(',', '.').astype(float)\n",
    "data['<CLOSE>'] = data['<CLOSE>'].str.replace(',', '.').astype(float)\n",
    "\n",
    "# Преобразуйте столбец \"<VOL>\" в числовой формат и умножьте на миллион или миллиард, в зависимости от окончания\n",
    "data['<VOL>'] = data['<VOL>'].str.replace(',', '.').str.replace('K', 'e3').str.replace('M', 'e6').str.replace('B', 'e9').apply(pd.eval).astype(int)\n",
    "\n",
    "# Определите порядок столбцов\n",
    "columns_order = ['<DATE>', '<TIME>', '<OPEN>', '<HIGH>', '<LOW>', '<CLOSE>', '<VOL>']\n",
    "\n",
    "# Переставьте столбцы в соответствии с порядком\n",
    "data = data[columns_order]\n",
    "\n",
    "# Сохраните данные в новом CSV файле\n",
    "data.to_csv('SBER.csv', index=False, header=True, sep=',', float_format='%.8f')\n"
   ]
  },
  {
   "cell_type": "code",
   "execution_count": null,
   "outputs": [],
   "source": [],
   "metadata": {
    "collapsed": false,
    "pycharm": {
     "name": "#%%\n"
    }
   }
  }
 ],
 "metadata": {
  "kernelspec": {
   "display_name": "Python 3",
   "language": "python",
   "name": "python3"
  },
  "language_info": {
   "codemirror_mode": {
    "name": "ipython",
    "version": 2
   },
   "file_extension": ".py",
   "mimetype": "text/x-python",
   "name": "python",
   "nbconvert_exporter": "python",
   "pygments_lexer": "ipython2",
   "version": "2.7.6"
  }
 },
 "nbformat": 4,
 "nbformat_minor": 0
}